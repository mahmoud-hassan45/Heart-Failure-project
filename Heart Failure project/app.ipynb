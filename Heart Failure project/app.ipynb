{
 "cells": [
  {
   "cell_type": "code",
   "execution_count": 11,
   "id": "d58de467-3522-43ea-84ed-72f410f82332",
   "metadata": {},
   "outputs": [
    {
     "name": "stderr",
     "output_type": "stream",
     "text": [
      "C:\\Users\\HP\\anaconda3\\Lib\\site-packages\\sklearn\\base.py:376: InconsistentVersionWarning: Trying to unpickle estimator StandardScaler from version 1.6.0 when using version 1.5.1. This might lead to breaking code or invalid results. Use at your own risk. For more info please refer to:\n",
      "https://scikit-learn.org/stable/model_persistence.html#security-maintainability-limitations\n",
      "  warnings.warn(\n"
     ]
    },
    {
     "name": "stdout",
     "output_type": "stream",
     "text": [
      "* Running on local URL:  http://127.0.0.1:7860\n",
      "* Running on public URL: https://3a1f37f67a9edb63be.gradio.live\n",
      "\n",
      "This share link expires in 1 week. For free permanent hosting and GPU upgrades, run `gradio deploy` from the terminal in the working directory to deploy to Hugging Face Spaces (https://huggingface.co/spaces)\n"
     ]
    },
    {
     "data": {
      "text/html": [
       "<div><iframe src=\"https://3a1f37f67a9edb63be.gradio.live\" width=\"100%\" height=\"500\" allow=\"autoplay; camera; microphone; clipboard-read; clipboard-write;\" frameborder=\"0\" allowfullscreen></iframe></div>"
      ],
      "text/plain": [
       "<IPython.core.display.HTML object>"
      ]
     },
     "metadata": {},
     "output_type": "display_data"
    }
   ],
   "source": [
    "import gradio as gr\n",
    "import numpy as np\n",
    "import pickle\n",
    "import os\n",
    "\n",
    "models = {\n",
    "    \"Random Forest\": pickle.load(open(\"rf_heart_model.pkl\", \"rb\")),\n",
    "    \"SVM\": pickle.load(open(\"svm_heart_model.pkl\", \"rb\")),\n",
    "    \"XGBoost\": pickle.load(open(\"xgb_heart_model.pkl\", \"rb\"))\n",
    "}\n",
    "\n",
    "scaler = pickle.load(open(\"scaler.pkl\", \"rb\"))\n",
    "\n",
    "def predict(model_name, age, anaemia, cpk, diabetes, ef, hbp, platelets,\n",
    "            creatinine, sodium, sex, smoking, time):\n",
    "\n",
    "    features = np.array([[age, anaemia, cpk, diabetes, ef, hbp, platelets,\n",
    "                          creatinine, sodium, sex, smoking, time]])\n",
    "    \n",
    "\n",
    "    features_scaled = scaler.transform(features)\n",
    "\n",
    "    model = models[model_name]\n",
    "    prediction = model.predict(features_scaled)[0]\n",
    "\n",
    "    if hasattr(model, \"predict_proba\"):\n",
    "        prob = model.predict_proba(features_scaled)[0][1] * 100\n",
    "        if prediction == 1:\n",
    "            return f\"❌ High Risk of Heart Failure ({prob:.2f}%)\"\n",
    "        else:\n",
    "            return f\"✅ Low Risk ({prob:.2f}%)\"\n",
    "    else:\n",
    "        return \"❌ High Risk\" if prediction == 1 else \"✅ Low Risk\"\n",
    "\n",
    "interface = gr.Interface(\n",
    "    fn=predict,\n",
    "    inputs=[\n",
    "        gr.Dropdown([\"Random Forest\", \"SVM\", \"XGBoost\"], label=\"Select Model\"),\n",
    "        gr.Number(label=\"Age (years)\"),\n",
    "        gr.Radio([0, 1], label=\"Anaemia (1 = Yes, 0 = No)\"),\n",
    "        gr.Number(label=\"Creatinine Phosphokinase (CPK level)\"),\n",
    "        gr.Radio([0, 1], label=\"Diabetes (1 = Yes, 0 = No)\"),\n",
    "        gr.Number(label=\"Ejection Fraction (%)\"),\n",
    "        gr.Radio([0, 1], label=\"High Blood Pressure (1 = Yes, 0 = No)\"),\n",
    "        gr.Number(label=\"Platelets\"),\n",
    "        gr.Number(label=\"Serum Creatinine\"),\n",
    "        gr.Number(label=\"Serum Sodium\"),\n",
    "        gr.Radio([0, 1], label=\"Sex (1 = Male, 0 = Female)\"),\n",
    "        gr.Radio([0, 1], label=\"Smoking (1 = Yes, 0 = No)\"),\n",
    "        gr.Number(label=\"Follow-up Time (days)\")\n",
    "    ],\n",
    "    outputs=gr.Text(label=\"Prediction Result\"),\n",
    "    title=\"🫀 Heart Failure Prediction\",\n",
    "    description=\"Enter patient medical data and select a trained model to predict the risk of heart failure.\"\n",
    ")\n",
    "\n",
    "try:\n",
    "    interface.launch(share=True)  \n",
    "except:\n",
    "    print(\"❌ Could not share publicly. Running locally only.\")\n",
    "    interface.launch(share=False)"
   ]
  },
  {
   "cell_type": "code",
   "execution_count": null,
   "id": "3b007e2c-dd9e-412b-8e45-b6e42d3656de",
   "metadata": {},
   "outputs": [],
   "source": []
  }
 ],
 "metadata": {
  "kernelspec": {
   "display_name": "Python [conda env:base] *",
   "language": "python",
   "name": "conda-base-py"
  },
  "language_info": {
   "codemirror_mode": {
    "name": "ipython",
    "version": 3
   },
   "file_extension": ".py",
   "mimetype": "text/x-python",
   "name": "python",
   "nbconvert_exporter": "python",
   "pygments_lexer": "ipython3",
   "version": "3.12.7"
  }
 },
 "nbformat": 4,
 "nbformat_minor": 5
}
